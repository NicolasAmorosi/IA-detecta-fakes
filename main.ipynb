{
 "cells": [
  {
   "cell_type": "code",
   "execution_count": 1,
   "metadata": {},
   "outputs": [
    {
     "name": "stdout",
     "output_type": "stream",
     "text": [
      "Found 100000 files belonging to 2 classes.\n",
      "Found 20000 files belonging to 2 classes.\n",
      "Epoch 1/10\n",
      "3125/3125 [==============================] - 61s 19ms/step - loss: 0.3337 - accuracy: 0.8538 - precision: 0.8453 - recall: 0.8662 - val_loss: 0.2823 - val_accuracy: 0.8882 - val_precision: 0.8864 - val_recall: 0.8907\n",
      "Epoch 2/10\n",
      "3125/3125 [==============================] - 64s 20ms/step - loss: 0.2295 - accuracy: 0.9078 - precision: 0.9017 - recall: 0.9153 - val_loss: 0.2357 - val_accuracy: 0.9088 - val_precision: 0.9438 - val_recall: 0.8694\n",
      "Epoch 3/10\n",
      "3125/3125 [==============================] - 62s 20ms/step - loss: 0.1911 - accuracy: 0.9243 - precision: 0.9204 - recall: 0.9290 - val_loss: 0.2033 - val_accuracy: 0.9214 - val_precision: 0.9283 - val_recall: 0.9132\n",
      "Epoch 4/10\n",
      "3125/3125 [==============================] - 65s 21ms/step - loss: 0.1662 - accuracy: 0.9346 - precision: 0.9317 - recall: 0.9378 - val_loss: 0.2088 - val_accuracy: 0.9210 - val_precision: 0.9447 - val_recall: 0.8943\n",
      "Epoch 5/10\n",
      "3125/3125 [==============================] - 62s 20ms/step - loss: 0.1448 - accuracy: 0.9437 - precision: 0.9412 - recall: 0.9465 - val_loss: 0.2147 - val_accuracy: 0.9219 - val_precision: 0.9546 - val_recall: 0.8860\n",
      "Epoch 6/10\n",
      "3125/3125 [==============================] - 63s 20ms/step - loss: 0.1270 - accuracy: 0.9504 - precision: 0.9486 - recall: 0.9523 - val_loss: 0.1903 - val_accuracy: 0.9278 - val_precision: 0.9232 - val_recall: 0.9332\n",
      "Epoch 7/10\n",
      "3125/3125 [==============================] - 62s 20ms/step - loss: 0.1104 - accuracy: 0.9570 - precision: 0.9551 - recall: 0.9591 - val_loss: 0.2068 - val_accuracy: 0.9256 - val_precision: 0.9375 - val_recall: 0.9120\n",
      "Epoch 8/10\n",
      "3125/3125 [==============================] - 63s 20ms/step - loss: 0.0955 - accuracy: 0.9637 - precision: 0.9619 - recall: 0.9657 - val_loss: 0.2122 - val_accuracy: 0.9257 - val_precision: 0.9151 - val_recall: 0.9385\n",
      "Epoch 9/10\n",
      "3125/3125 [==============================] - 65s 21ms/step - loss: 0.0836 - accuracy: 0.9688 - precision: 0.9675 - recall: 0.9702 - val_loss: 0.2170 - val_accuracy: 0.9258 - val_precision: 0.9166 - val_recall: 0.9368\n",
      "Epoch 10/10\n",
      "3125/3125 [==============================] - 64s 21ms/step - loss: 0.0715 - accuracy: 0.9730 - precision: 0.9719 - recall: 0.9741 - val_loss: 0.2823 - val_accuracy: 0.9178 - val_precision: 0.9556 - val_recall: 0.8763\n",
      "New model - Training finished.\n"
     ]
    }
   ],
   "source": [
    "import tensorflow as tf\n",
    "\n",
    "# Load the new dataset\n",
    "dataset_dir = \"dataset/\"\n",
    "\n",
    "img_height = 32\n",
    "img_width = 32\n",
    "batch_size = 32\n",
    "\n",
    "train_ds = tf.keras.utils.image_dataset_from_directory(\n",
    "    dataset_dir + \"/train\",\n",
    "    seed=123,\n",
    "    image_size=(img_height, img_width),\n",
    "    batch_size=batch_size\n",
    ")\n",
    "\n",
    "val_ds = tf.keras.utils.image_dataset_from_directory(\n",
    "    dataset_dir + \"/test\",\n",
    "    seed=123,\n",
    "    image_size=(img_height, img_width),\n",
    "    batch_size=batch_size\n",
    ")\n",
    "\n",
    "# Create a new model based on the base model architecture\n",
    "new_model_input = tf.keras.layers.Input(shape=(img_height, img_width, 3))\n",
    "rescaling_layer = tf.keras.layers.Rescaling(1./255)(new_model_input)\n",
    "conv_layer = tf.keras.layers.Conv2D(32, 3, activation='relu')(rescaling_layer)\n",
    "maxpool_layer = tf.keras.layers.MaxPooling2D()(conv_layer)\n",
    "flatten_layer = tf.keras.layers.Flatten()(maxpool_layer)\n",
    "dense_layer = tf.keras.layers.Dense(64, activation='relu')(flatten_layer)\n",
    "output_layer = tf.keras.layers.Dense(1, activation='sigmoid')(dense_layer)\n",
    "\n",
    "new_model = tf.keras.Model(inputs=new_model_input, outputs=output_layer)\n",
    "\n",
    "new_model.compile(\n",
    "    optimizer='adam',\n",
    "    loss=tf.keras.losses.BinaryCrossentropy(),\n",
    "    metrics=['accuracy', tf.keras.metrics.Precision(), tf.keras.metrics.Recall()]\n",
    ")\n",
    "\n",
    "# Train the new model\n",
    "num_epochs = 10\n",
    "new_model.fit(\n",
    "    train_ds,\n",
    "    validation_data=val_ds,\n",
    "    epochs=num_epochs,\n",
    "    verbose=1\n",
    ")\n",
    "\n",
    "print(\"New model - Training finished.\")"
   ]
  }
 ],
 "metadata": {
  "kernelspec": {
   "display_name": "Python 3",
   "language": "python",
   "name": "python3"
  },
  "language_info": {
   "codemirror_mode": {
    "name": "ipython",
    "version": 3
   },
   "file_extension": ".py",
   "mimetype": "text/x-python",
   "name": "python",
   "nbconvert_exporter": "python",
   "pygments_lexer": "ipython3",
   "version": "3.11.3"
  },
  "orig_nbformat": 4
 },
 "nbformat": 4,
 "nbformat_minor": 2
}
